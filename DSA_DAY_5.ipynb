{
  "nbformat": 4,
  "nbformat_minor": 0,
  "metadata": {
    "colab": {
      "provenance": []
    },
    "kernelspec": {
      "name": "python3",
      "display_name": "Python 3"
    },
    "language_info": {
      "name": "python"
    }
  },
  "cells": [
    {
      "cell_type": "markdown",
      "source": [
        "Day 5 of 30 🗓\n",
        "\n",
        "Problem : Find the Leaders in an Array\n",
        "You are given an integer array arr of size n. An element is considered a leader if it is greater than all the elements to its right. Your task is to find all such leader elements in the array.\n",
        "\n",
        "Input :\n",
        "An integer array arr of size n.\n",
        "Example :\n",
        "arr = [16, 17, 4, 3, 5, 2]\n",
        "\n",
        "Output :\n",
        "Return an array containing all the leader elements in the order in which they appear in the original array.\n",
        "Example:\n",
        "Leaders: [17, 5, 2]\n"
      ],
      "metadata": {
        "id": "WvzAscPnZr-A"
      }
    },
    {
      "cell_type": "code",
      "execution_count": 7,
      "metadata": {
        "id": "H8AUT3xZZllc"
      },
      "outputs": [],
      "source": [
        "def find_leaders(arr):\n",
        "    leaders = []\n",
        "    max_right = arr[-1]\n",
        "    leaders.append(max_right)\n",
        "    for i in range(len(arr)-2, -1,-1):\n",
        "        if arr[i] > max_right:\n",
        "            max_right = arr[i]\n",
        "            leaders.append(max_right)\n",
        "    return leaders[::-1]\n"
      ]
    },
    {
      "cell_type": "code",
      "source": [
        "arr=[16, 17, 4, 3, 5, 2]\n",
        "print(find_leaders(arr))"
      ],
      "metadata": {
        "colab": {
          "base_uri": "https://localhost:8080/"
        },
        "id": "5JuIAmFQaSVi",
        "outputId": "47daaa01-286b-45b4-df25-e9d558941a21"
      },
      "execution_count": 8,
      "outputs": [
        {
          "output_type": "stream",
          "name": "stdout",
          "text": [
            "[17, 5, 2]\n"
          ]
        }
      ]
    }
  ]
}