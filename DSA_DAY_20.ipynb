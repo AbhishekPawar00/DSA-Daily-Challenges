{
  "nbformat": 4,
  "nbformat_minor": 0,
  "metadata": {
    "colab": {
      "provenance": []
    },
    "kernelspec": {
      "name": "python3",
      "display_name": "Python 3"
    },
    "language_info": {
      "name": "python"
    }
  },
  "cells": [
    {
      "cell_type": "markdown",
      "source": [
        "Day 20 of 30 🗓\n",
        "\n",
        "Problem : Sort a Stack Using Recursion\n",
        "Given a stack of integers, your task is to write a function that sorts the stack in ascending order. You are not allowed to use any additional data structure like arrays, lists, or another stack. The only operations you are allowed to perform are push, pop, and peek on the stack. The sorting must be performed using recursion only.\n",
        "\n",
        "You need to recursively sort the stack, ensuring that after the sorting process, the stack remains sorted without using any additional data structures. You can only use the stack's own operations and recursion to solve this problem.\n",
        "\n",
        "Input :\n",
        "* A stack containing integers. The stack may have positive, negative, or zero values.\n",
        "* Input: [3, 1, 4, 2]\n",
        "\n",
        "Output :\n",
        "The input stack should be sorted in ascending order (smallest elements on the top and largest at the bottom) after the sorting operation is performed.\n",
        "Output: [1, 2, 3, 4]"
      ],
      "metadata": {
        "id": "xjzpTg3Dxs-K"
      }
    },
    {
      "cell_type": "code",
      "source": [
        "def insert_sorted(stack, element):\n",
        "    if not stack or stack[-1] <= element:\n",
        "        stack.append(element)\n",
        "    else:\n",
        "        temp = stack.pop()\n",
        "        insert_sorted(stack, element)\n",
        "        stack.append(temp)"
      ],
      "metadata": {
        "id": "bRitTs17yIg3"
      },
      "execution_count": 1,
      "outputs": []
    },
    {
      "cell_type": "code",
      "source": [
        "def sort_stack(stack):\n",
        "    if stack:\n",
        "        temp = stack.pop()\n",
        "        sort_stack(stack)\n",
        "        insert_sorted(stack, temp)"
      ],
      "metadata": {
        "id": "6GH-GSwvP1gN"
      },
      "execution_count": 2,
      "outputs": []
    },
    {
      "cell_type": "code",
      "source": [
        "stacks = [\n",
        "    [3, 1, 4, 2],\n",
        "    [7, 1, 5],\n",
        "    [5],\n",
        "    [-3, 14, 8, 2],\n",
        "    [],\n",
        "    [3, 3, 3]\n",
        "]"
      ],
      "metadata": {
        "id": "3981MUbeP4vk"
      },
      "execution_count": 3,
      "outputs": []
    },
    {
      "cell_type": "code",
      "source": [
        "for s in stacks:\n",
        "    sort_stack(s)\n",
        "    print(s)"
      ],
      "metadata": {
        "id": "L-mkxjpMO1nC",
        "colab": {
          "base_uri": "https://localhost:8080/"
        },
        "outputId": "7adbf815-4189-403b-e7cb-bbd41059bef9"
      },
      "execution_count": 4,
      "outputs": [
        {
          "output_type": "stream",
          "name": "stdout",
          "text": [
            "[1, 2, 3, 4]\n",
            "[1, 5, 7]\n",
            "[5]\n",
            "[-3, 2, 8, 14]\n",
            "[]\n",
            "[3, 3, 3]\n"
          ]
        }
      ]
    }
  ]
}