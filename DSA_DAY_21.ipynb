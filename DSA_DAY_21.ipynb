{
  "nbformat": 4,
  "nbformat_minor": 0,
  "metadata": {
    "colab": {
      "provenance": []
    },
    "kernelspec": {
      "name": "python3",
      "display_name": "Python 3"
    },
    "language_info": {
      "name": "python"
    }
  },
  "cells": [
    {
      "cell_type": "markdown",
      "source": [
        "Day 21 of 30 🗓\n",
        "\n",
        "Problem : Reverse a Stack Using Recursion\n",
        "You are given a stack of integers, and your task is to write a function that reverses the stack using recursion. You are not allowed to use any additional data structure (like arrays, lists, or another stack). The only operations you are allowed to perform are push, pop, and peek on the stack. The reversal must be done using recursion only.\n",
        "\n",
        "Input :\n",
        "* A stack of integers. The stack may contain positive, negative, or zero values.\n",
        "* Input: [1, 2, 3, 4]\n",
        "\n",
        "Output :\n",
        "The stack should be reversed, meaning the element that was at the bottom of the original stack should become the topmost element after the reversal.\n",
        "Output: [4, 3, 2, 1]"
      ],
      "metadata": {
        "id": "xjzpTg3Dxs-K"
      }
    },
    {
      "cell_type": "code",
      "source": [
        "class Stack:\n",
        "    def __init__(self):\n",
        "        self.items = []\n",
        "    def push(self, item):\n",
        "        self.items.append(item)\n",
        "    def pop(self):\n",
        "        if not self.is_empty():\n",
        "            return self.items.pop()\n",
        "    def peek(self):\n",
        "        if not self.is_empty():\n",
        "            return self.items[-1]\n",
        "    def is_empty(self):\n",
        "        return len(self.items) == 0\n",
        "    def __str__(self):\n",
        "        return str(self.items)"
      ],
      "metadata": {
        "id": "bRitTs17yIg3"
      },
      "execution_count": 1,
      "outputs": []
    },
    {
      "cell_type": "code",
      "source": [
        "def insert_at_bottom(stack, item):\n",
        "    if stack.is_empty():\n",
        "        stack.push(item)\n",
        "    else:\n",
        "        temp = stack.pop()\n",
        "        insert_at_bottom(stack, item)\n",
        "        stack.push(temp)"
      ],
      "metadata": {
        "id": "6GH-GSwvP1gN"
      },
      "execution_count": 2,
      "outputs": []
    },
    {
      "cell_type": "code",
      "source": [
        "def reverse_stack(stack):\n",
        "    if not stack.is_empty():\n",
        "        temp = stack.pop()\n",
        "        reverse_stack(stack)\n",
        "        insert_at_bottom(stack, temp)"
      ],
      "metadata": {
        "id": "3981MUbeP4vk"
      },
      "execution_count": 3,
      "outputs": []
    },
    {
      "cell_type": "code",
      "source": [
        "s1 = Stack()\n",
        "for i in [1, 2, 3, 4]:\n",
        "    s1.push(i)\n",
        "reverse_stack(s1)\n",
        "print(s1)"
      ],
      "metadata": {
        "id": "L-mkxjpMO1nC",
        "colab": {
          "base_uri": "https://localhost:8080/"
        },
        "outputId": "d5c8f0ca-c346-4e56-dfaf-598aff8b7162"
      },
      "execution_count": 4,
      "outputs": [
        {
          "output_type": "stream",
          "name": "stdout",
          "text": [
            "[4, 3, 2, 1]\n"
          ]
        }
      ]
    },
    {
      "cell_type": "code",
      "source": [
        "s2 = Stack()\n",
        "for i in [3, 2, 1]:\n",
        "    s2.push(i)\n",
        "reverse_stack(s2)\n",
        "print(s2)"
      ],
      "metadata": {
        "colab": {
          "base_uri": "https://localhost:8080/"
        },
        "id": "twWFMNg6iTZ5",
        "outputId": "871aa4c3-2ade-492e-a405-9355a12f9f32"
      },
      "execution_count": 5,
      "outputs": [
        {
          "output_type": "stream",
          "name": "stdout",
          "text": [
            "[1, 2, 3]\n"
          ]
        }
      ]
    },
    {
      "cell_type": "code",
      "source": [
        "s3 = Stack()\n",
        "for i in [5]:\n",
        "    s3.push(i)\n",
        "reverse_stack(s3)\n",
        "print(s3)"
      ],
      "metadata": {
        "colab": {
          "base_uri": "https://localhost:8080/"
        },
        "id": "VjZlhR17iWYC",
        "outputId": "08bafb43-cc7e-44fe-e064-060ef6f38b22"
      },
      "execution_count": 6,
      "outputs": [
        {
          "output_type": "stream",
          "name": "stdout",
          "text": [
            "[5]\n"
          ]
        }
      ]
    },
    {
      "cell_type": "code",
      "source": [
        "s4 = Stack()\n",
        "for i in [-5, -10, -15]:\n",
        "    s4.push(i)\n",
        "reverse_stack(s4)\n",
        "print(s4)"
      ],
      "metadata": {
        "colab": {
          "base_uri": "https://localhost:8080/"
        },
        "id": "nBU0TwqkiZUJ",
        "outputId": "a63df502-f20f-431e-cf3c-390727c7edf9"
      },
      "execution_count": 7,
      "outputs": [
        {
          "output_type": "stream",
          "name": "stdout",
          "text": [
            "[-15, -10, -5]\n"
          ]
        }
      ]
    },
    {
      "cell_type": "code",
      "source": [
        "s5 = Stack()\n",
        "reverse_stack(s5)\n",
        "print(s5)"
      ],
      "metadata": {
        "colab": {
          "base_uri": "https://localhost:8080/"
        },
        "id": "gpA6U0CqibWB",
        "outputId": "d2c6c855-77f4-43c0-bd39-e0666b62bd28"
      },
      "execution_count": 8,
      "outputs": [
        {
          "output_type": "stream",
          "name": "stdout",
          "text": [
            "[]\n"
          ]
        }
      ]
    },
    {
      "cell_type": "code",
      "source": [
        "s6 = Stack()\n",
        "for i in [3, 3, 3]:\n",
        "    s6.push(i)\n",
        "reverse_stack(s6)\n",
        "print(s6)"
      ],
      "metadata": {
        "colab": {
          "base_uri": "https://localhost:8080/"
        },
        "id": "p5klgVJ6ic_p",
        "outputId": "e6cb6421-3507-4c91-fb7e-2b4fc248f604"
      },
      "execution_count": 9,
      "outputs": [
        {
          "output_type": "stream",
          "name": "stdout",
          "text": [
            "[3, 3, 3]\n"
          ]
        }
      ]
    }
  ]
}