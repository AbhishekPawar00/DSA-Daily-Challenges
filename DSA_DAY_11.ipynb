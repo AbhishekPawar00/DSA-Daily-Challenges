{
  "nbformat": 4,
  "nbformat_minor": 0,
  "metadata": {
    "colab": {
      "provenance": []
    },
    "kernelspec": {
      "name": "python3",
      "display_name": "Python 3"
    },
    "language_info": {
      "name": "python"
    }
  },
  "cells": [
    {
      "cell_type": "markdown",
      "source": [
        "Day 11 of 30 🗓\n",
        "\n",
        "Problem : Permutations of a String\n",
        "You are given a string s. Your task is to generate and return all possible permutations of the characters in the string. A permutation is a rearrangement of the characters in the string, and each character must appear exactly once in every permutation. If there are duplicate characters in the string, the resulting permutations should also be unique (i.e., no repeated permutations).\n",
        "\n",
        "Input :\n",
        "A string s consisting of lowercase English letters. The length of the string n satisfies 1≤𝑛≤9.\n",
        "Input: \"abc\"\n",
        "\n",
        "Output :\n",
        "An array of strings containing all unique permutations of the input string. The order of permutations in the output does not matter.\n",
        "Output: [\"abc\", \"acb\", \"bac\", \"bca\", \"cab\", \"cba\"]\n"
      ],
      "metadata": {
        "id": "m3EFYnLbdqzX"
      }
    },
    {
      "cell_type": "code",
      "execution_count": 1,
      "metadata": {
        "id": "VUpfELqsdmt1"
      },
      "outputs": [],
      "source": [
        "def string_permutations(s):\n",
        "    if len(s) == 1:\n",
        "        return [s]\n",
        "    result = []\n",
        "    for i in range(len(s)):\n",
        "        char = s[i]\n",
        "        remaining = s[:i] + s[i+1:]\n",
        "        for perm in string_permutations(remaining):\n",
        "            result.append(char + perm)\n",
        "    return list(set(result))"
      ]
    },
    {
      "cell_type": "code",
      "source": [
        "s = \"abc\"\n",
        "print(string_permutations(s))\n"
      ],
      "metadata": {
        "colab": {
          "base_uri": "https://localhost:8080/"
        },
        "id": "cLdSrrJbe8dx",
        "outputId": "6cd7398c-1dfa-4389-a11b-ef54943100b1"
      },
      "execution_count": 3,
      "outputs": [
        {
          "output_type": "stream",
          "name": "stdout",
          "text": [
            "['abc', 'bca', 'cab', 'bac', 'cba', 'acb']\n"
          ]
        }
      ]
    }
  ]
}