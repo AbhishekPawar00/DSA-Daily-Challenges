{
  "nbformat": 4,
  "nbformat_minor": 0,
  "metadata": {
    "colab": {
      "provenance": []
    },
    "kernelspec": {
      "name": "python3",
      "display_name": "Python 3"
    },
    "language_info": {
      "name": "python"
    }
  },
  "cells": [
    {
      "cell_type": "markdown",
      "source": [
        "Day 23 of 30 🗓\n",
        "\n",
        "Problem : Sliding Window Maximum\n",
        "You are given an array of integers arr and a positive integer k. Your task is to find the maximum element in each sliding window of size k. The window slides from left to right, one element at a time, and you need to return the maximum element for each of these windows.\n",
        "\n",
        "Input :\n",
        "* An integer array arr of size n, where 1≤n≤105\n",
        "* An integer k, where 1≤k≤n\n",
        "* Input: arr = [1, 3, -1, -3, 5, 3, 6, 7], k = 3\n",
        "\n",
        "Output :\n",
        "An array of size n−k+1 containing the maximum element from each sliding window.\n",
        "Output: [3, 3, 5, 5, 6, 7]"
      ],
      "metadata": {
        "id": "xjzpTg3Dxs-K"
      }
    },
    {
      "cell_type": "code",
      "source": [
        "from collections import deque"
      ],
      "metadata": {
        "id": "bRitTs17yIg3"
      },
      "execution_count": 1,
      "outputs": []
    },
    {
      "cell_type": "code",
      "source": [
        "def sliding_window_maximum(arr, k):\n",
        "    result = []\n",
        "    dq = deque()\n",
        "\n",
        "    for i in range(len(arr)):\n",
        "        while dq and dq[0] < i - k + 1:\n",
        "            dq.popleft()\n",
        "\n",
        "        while dq and arr[dq[-1]] < arr[i]:\n",
        "            dq.pop()\n",
        "\n",
        "        dq.append(i)\n",
        "\n",
        "        if i >= k - 1:\n",
        "            result.append(arr[dq[0]])\n",
        "\n",
        "    return result"
      ],
      "metadata": {
        "id": "6GH-GSwvP1gN"
      },
      "execution_count": 2,
      "outputs": []
    },
    {
      "cell_type": "code",
      "source": [
        "print(sliding_window_maximum([1, 3, -1, -3, 5, 3, 6, 7], 3))"
      ],
      "metadata": {
        "colab": {
          "base_uri": "https://localhost:8080/"
        },
        "id": "tdjlQQ4ATB6o",
        "outputId": "8612d84c-14a2-41d2-d8dd-83ed96f2c2a4"
      },
      "execution_count": 3,
      "outputs": [
        {
          "output_type": "stream",
          "name": "stdout",
          "text": [
            "[3, 3, 5, 5, 6, 7]\n"
          ]
        }
      ]
    },
    {
      "cell_type": "code",
      "source": [
        "print(sliding_window_maximum([1, 5, 3, 2, 4, 6], 3))"
      ],
      "metadata": {
        "colab": {
          "base_uri": "https://localhost:8080/"
        },
        "id": "Kz05v73cTDIM",
        "outputId": "4c72bcb0-782d-456e-d8fd-a7f1d3b6f1e7"
      },
      "execution_count": 4,
      "outputs": [
        {
          "output_type": "stream",
          "name": "stdout",
          "text": [
            "[5, 5, 4, 6]\n"
          ]
        }
      ]
    },
    {
      "cell_type": "code",
      "source": [
        "print(sliding_window_maximum([1, 2, 3, 4], 2))"
      ],
      "metadata": {
        "colab": {
          "base_uri": "https://localhost:8080/"
        },
        "id": "pcSa7s6jTDYe",
        "outputId": "354ba4ef-7882-4774-f903-e60c9a0e5ed5"
      },
      "execution_count": 5,
      "outputs": [
        {
          "output_type": "stream",
          "name": "stdout",
          "text": [
            "[2, 3, 4]\n"
          ]
        }
      ]
    },
    {
      "cell_type": "code",
      "source": [
        "print(sliding_window_maximum([7, 7, 7, 7], 1))"
      ],
      "metadata": {
        "colab": {
          "base_uri": "https://localhost:8080/"
        },
        "id": "SejCflfGTWgD",
        "outputId": "3c908598-13e2-48a4-b1dd-ce5596c787e2"
      },
      "execution_count": 6,
      "outputs": [
        {
          "output_type": "stream",
          "name": "stdout",
          "text": [
            "[7, 7, 7, 7]\n"
          ]
        }
      ]
    }
  ]
}