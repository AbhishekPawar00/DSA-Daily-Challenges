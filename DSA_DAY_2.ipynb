{
  "nbformat": 4,
  "nbformat_minor": 0,
  "metadata": {
    "colab": {
      "provenance": []
    },
    "kernelspec": {
      "name": "python3",
      "display_name": "Python 3"
    },
    "language_info": {
      "name": "python"
    }
  },
  "cells": [
    {
      "cell_type": "markdown",
      "source": [
        "Day 2 of 30 🗓\n",
        "\n",
        "Problem : Find the Missing Number\n",
        "You are given an array arr containing n-1 distinct integers. The array consists of integers taken from the range 1 to n, meaning one integer is missing from this sequence. Your task is to find the missing integer.\n",
        "\n",
        "Input :\n",
        "An integer array arr of size n-1 where the elements are distinct and taken from the range 1 to n.\n",
        "Example : arr = [1, 2, 4, 5]\n",
        "\n",
        "Output :\n",
        "Return the missing integer from the array.\n",
        "Example: Missing number: 3\n",
        "\n"
      ],
      "metadata": {
        "id": "hIzCs3yUHvFA"
      }
    },
    {
      "cell_type": "markdown",
      "source": [
        "**ANS 1**"
      ],
      "metadata": {
        "id": "bhBk3PiuKGS7"
      }
    },
    {
      "cell_type": "code",
      "execution_count": 1,
      "metadata": {
        "id": "_NiD-Pd9GRz6"
      },
      "outputs": [],
      "source": [
        "def MissingNumber(arr):\n",
        "    n = len(arr) + 1\n",
        "    total_sum = n * (n + 1) // 2\n",
        "    actual_sum = sum(arr)\n",
        "    return total_sum - actual_sum"
      ]
    },
    {
      "cell_type": "code",
      "source": [
        "arr = [1, 2, 4, 5]\n",
        "print(\"Missing number:\", MissingNumber(arr))\n",
        "# Output: Missing number: 3"
      ],
      "metadata": {
        "colab": {
          "base_uri": "https://localhost:8080/"
        },
        "id": "M-a6ZTB-H2SU",
        "outputId": "f2ee205c-7c7c-4232-be4b-b320a857640c"
      },
      "execution_count": 2,
      "outputs": [
        {
          "output_type": "stream",
          "name": "stdout",
          "text": [
            "Missing number: 3\n"
          ]
        }
      ]
    },
    {
      "cell_type": "markdown",
      "source": [
        "**ANS 2**"
      ],
      "metadata": {
        "id": "pw5kBp7mKMYm"
      }
    },
    {
      "cell_type": "code",
      "source": [
        "def miss(arr):\n",
        "  a=arr[-1]-len(arr)\n",
        "  for i in range(1,len(arr)+a):\n",
        "    if i not in arr:\n",
        "      print(i)"
      ],
      "metadata": {
        "id": "0wPQwkcCH6Bw"
      },
      "execution_count": 24,
      "outputs": []
    },
    {
      "cell_type": "code",
      "source": [
        "arr = [1,2,4,5]\n",
        "print(\"Missing number:\", MissingNumber(arr))"
      ],
      "metadata": {
        "colab": {
          "base_uri": "https://localhost:8080/"
        },
        "id": "tTUQkSAvIE5v",
        "outputId": "cae0a90a-1519-4b51-d601-307fe0229731"
      },
      "execution_count": 28,
      "outputs": [
        {
          "output_type": "stream",
          "name": "stdout",
          "text": [
            "Missing number: 3\n"
          ]
        }
      ]
    },
    {
      "cell_type": "markdown",
      "source": [
        "**ANS 3**"
      ],
      "metadata": {
        "id": "wAEDcsQSKRtc"
      }
    },
    {
      "cell_type": "code",
      "source": [
        "arr=[1,2,4,5,7] # if missing value is more than 2"
      ],
      "metadata": {
        "id": "cLkTJnPEKVYa"
      },
      "execution_count": 22,
      "outputs": []
    },
    {
      "cell_type": "code",
      "source": [
        "a=arr[-1]-len(arr)\n",
        "for i in range(1,len(arr)+a):\n",
        "  if i not in arr:\n",
        "    print(\"Missing number:\",i)"
      ],
      "metadata": {
        "colab": {
          "base_uri": "https://localhost:8080/"
        },
        "id": "KcYVg892J1Dv",
        "outputId": "d5c3fdac-beda-41c4-d8f2-c2a0644acbd6"
      },
      "execution_count": 23,
      "outputs": [
        {
          "output_type": "stream",
          "name": "stdout",
          "text": [
            "Missing number: 3\n",
            "Missing number: 6\n"
          ]
        }
      ]
    }
  ]
}