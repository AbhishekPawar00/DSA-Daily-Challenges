{
  "nbformat": 4,
  "nbformat_minor": 0,
  "metadata": {
    "colab": {
      "provenance": []
    },
    "kernelspec": {
      "name": "python3",
      "display_name": "Python 3"
    },
    "language_info": {
      "name": "python"
    }
  },
  "cells": [
    {
      "cell_type": "markdown",
      "source": [
        "Day 10 of 30 🗓\n",
        "\n",
        "Problem : Group Anagrams\n",
        "You are given an array of strings strs[]. Your task is to group all the strings that are anagrams of each other. An anagram is a word or phrase formed by rearranging the letters of a different word or phrase, typically using all the original letters exactly once.\n",
        "The goal is to return the grouped anagrams as a list of lists, where each sublist contains words that are anagrams of each other.\n",
        "\n",
        "Input :\n",
        "An array of strings strs[] consisting of lowercase English letters.\n",
        "Input: strs[] = [\"eat\", \"tea\", \"tan\", \"ate\", \"nat\", \"bat\"]\n",
        "\n",
        "Output :\n",
        "A list of lists, where each sublist contains strings that are anagrams of each other. The order of the output groups does not matter.\n",
        "Output: [[\"eat\", \"tea\", \"ate\"], [\"tan\", \"nat\"], [\"bat\"]]\n"
      ],
      "metadata": {
        "id": "BIjilFmWmnLt"
      }
    },
    {
      "cell_type": "code",
      "execution_count": 1,
      "metadata": {
        "id": "KSFv0Alwmmck"
      },
      "outputs": [],
      "source": [
        "def groupAnagrams(strs):\n",
        "    anagrams = {}\n",
        "    for word in strs:\n",
        "        sorted_word = ''.join(sorted(word))\n",
        "        if sorted_word in anagrams:\n",
        "            anagrams[sorted_word].append(word)\n",
        "        else:\n",
        "            anagrams[sorted_word] = [word]\n",
        "    return list(anagrams.values())"
      ]
    },
    {
      "cell_type": "code",
      "source": [
        "strs= [\"eat\", \"tea\", \"tan\", \"ate\", \"nat\", \"bat\"]\n",
        "print(groupAnagrams(strs))\n",
        "#Output: [[\"eat\", \"tea\", \"ate\"], [\"tan\", \"nat\"], [\"bat\"]]"
      ],
      "metadata": {
        "colab": {
          "base_uri": "https://localhost:8080/"
        },
        "id": "BbjZrjYJmyXx",
        "outputId": "bb9c7ae2-7b3c-4482-8245-5fc46e3ade06"
      },
      "execution_count": 2,
      "outputs": [
        {
          "output_type": "stream",
          "name": "stdout",
          "text": [
            "[['eat', 'tea', 'ate'], ['tan', 'nat'], ['bat']]\n"
          ]
        }
      ]
    }
  ]
}