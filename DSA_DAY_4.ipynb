{
  "nbformat": 4,
  "nbformat_minor": 0,
  "metadata": {
    "colab": {
      "provenance": []
    },
    "kernelspec": {
      "name": "python3",
      "display_name": "Python 3"
    },
    "language_info": {
      "name": "python"
    }
  },
  "cells": [
    {
      "cell_type": "markdown",
      "source": [
        "Day 4 of 30 🗓\n",
        "\n",
        "Problem : Merge Two Sorted Arrays\n",
        "You are given two sorted arrays arr1 of size m and arr2 of size n. Your task is to merge these two arrays into a single sorted array without using any extra space (i.e., in-place merging). The elements in arr1 should be merged first, followed by the elements of arr2, resulting in both arrays being sorted after the merge.\n",
        "\n",
        "Input :\n",
        "Two sorted integer arrays arr1 of size m and arr2 of size n.\n",
        "Example :\n",
        "arr1 = [1, 3, 5, 7]\n",
        "arr2 = [2, 4, 6, 8]\n",
        "\n",
        "Output :\n",
        "Both arr1 and arr2 should be sorted after the merge. Since you cannot use extra space, the final result will be reflected in arr1 and arr2.\n",
        "Example:\n",
        "arr1 = [1, 2, 3, 4]\n",
        "arr2 = [5, 6, 7, 8]\n"
      ],
      "metadata": {
        "id": "KOayA-njZZVO"
      }
    },
    {
      "cell_type": "code",
      "execution_count": 21,
      "metadata": {
        "id": "oGlljUzIZI43"
      },
      "outputs": [],
      "source": [
        "\n",
        "def merge_sorted_arrays(arr1, arr2):\n",
        "  a = len(arr1)\n",
        "  b = len(arr2)\n",
        "  for i in range(b):\n",
        "    if arr1[i] > arr2[0]:\n",
        "      arr1[i], arr2[0] = arr2[0], arr1[i]  # Swap\n",
        "      arr2.sort()\n",
        "  return arr1, arr2"
      ]
    },
    {
      "cell_type": "code",
      "source": [
        "arr1 = [1, 3, 5, 7]\n",
        "arr2 = [2, 4, 6, 8]\n",
        "arr1, arr2 = merge_sorted_arrays(arr1, arr2)\n",
        "print(\"arr1:\", arr1)\n",
        "print(\"arr2:\", arr2)\n",
        "# Output:\n",
        "# arr1 = [1, 2, 3, 4]\n",
        "# arr2 = [5, 6, 7, 8]"
      ],
      "metadata": {
        "colab": {
          "base_uri": "https://localhost:8080/"
        },
        "id": "5TFOiNi1acnV",
        "outputId": "caf0b597-f910-479c-ccd9-65fbbc665f28"
      },
      "execution_count": 23,
      "outputs": [
        {
          "output_type": "stream",
          "name": "stdout",
          "text": [
            "arr1: [1, 2, 3, 4]\n",
            "arr2: [5, 6, 7, 8]\n"
          ]
        }
      ]
    }
  ]
}