{
  "nbformat": 4,
  "nbformat_minor": 0,
  "metadata": {
    "colab": {
      "provenance": []
    },
    "kernelspec": {
      "name": "python3",
      "display_name": "Python 3"
    },
    "language_info": {
      "name": "python"
    }
  },
  "cells": [
    {
      "cell_type": "markdown",
      "source": [
        "Day 16 of 30 🗓\n",
        "\n",
        "Problem : LCM (Least Common Multiple) of Two Numbers\n",
        "You are given two integers, N and M. Your task is to find the Least Common Multiple (LCM) of these two numbers. The LCM of two integers is the smallest positive integer that is divisible by both N and M.\n",
        "\n",
        "Input :\n",
        "* Two integers N and M, where 1≤N,M≤109\n",
        "* N = 4, M = 6\n",
        "\n",
        "Output :\n",
        "A single integer representing the Least Common Multiple of N and M.\n",
        "Output: 12\n"
      ],
      "metadata": {
        "id": "dmjk6P3kXh-1"
      }
    },
    {
      "cell_type": "code",
      "execution_count": 18,
      "metadata": {
        "id": "eRhS9T0XXcIH"
      },
      "outputs": [],
      "source": [
        "def gcd(a, b):\n",
        "    while b:\n",
        "     a, b = b, a % b\n",
        "    return a\n",
        "\n",
        "def lcm(n, m):\n",
        "    return (n * m) // gcd(n, m)\n"
      ]
    },
    {
      "cell_type": "code",
      "source": [
        "print(lcm(n=4, m=6))"
      ],
      "metadata": {
        "colab": {
          "base_uri": "https://localhost:8080/"
        },
        "id": "MoBatIVBYJxj",
        "outputId": "e93a25f2-79db-4a48-c468-730e77f07e28"
      },
      "execution_count": 19,
      "outputs": [
        {
          "output_type": "stream",
          "name": "stdout",
          "text": [
            "12\n"
          ]
        }
      ]
    },
    {
      "cell_type": "code",
      "source": [
        "print(lcm(n=7, m=3))"
      ],
      "metadata": {
        "colab": {
          "base_uri": "https://localhost:8080/"
        },
        "id": "UG1NGeRtYjJx",
        "outputId": "772b1c2b-f083-4ec5-9849-d9270a766f8a"
      },
      "execution_count": 20,
      "outputs": [
        {
          "output_type": "stream",
          "name": "stdout",
          "text": [
            "21\n"
          ]
        }
      ]
    }
  ]
}