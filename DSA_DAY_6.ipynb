{
  "nbformat": 4,
  "nbformat_minor": 0,
  "metadata": {
    "colab": {
      "provenance": []
    },
    "kernelspec": {
      "name": "python3",
      "display_name": "Python 3"
    },
    "language_info": {
      "name": "python"
    }
  },
  "cells": [
    {
      "cell_type": "markdown",
      "source": [
        "Day 6 of 30 🗓\n",
        "\n",
        "Problem : Find All Subarrays with Zero Sum\n",
        "You are given an integer array arr of size n. Your task is to find all the subarrays whose elements sum up to zero. A subarray is defined as a contiguous part of the array, and you must return the starting and ending indices of each subarray.\n",
        "\n",
        "Input :\n",
        "An integer array arr of size n where n represents the number of elements in the array.\n",
        "Example :\n",
        "Input: [1, 2, -3, 3, -1, 2]\n",
        "\n",
        "Output :\n",
        "- Return a list of tuples, where each tuple contains two integers. The starting index (0-based) of the subarray. The ending index (0-based) of the subarray.\n",
        "- The output should list all subarrays that sum to zero. If no such subarrays are found, return an empty list.\n",
        "Example\n",
        "Output: [(0, 2), (1, 3)]\n"
      ],
      "metadata": {
        "id": "oi8mWA09Kgoe"
      }
    },
    {
      "cell_type": "code",
      "execution_count": 3,
      "metadata": {
        "id": "oI-6XUwZKXn1"
      },
      "outputs": [],
      "source": [
        "def findZeroSumSubarrays(arr):\n",
        "    prefix_sum = 0\n",
        "    hashmap = {}\n",
        "    result = []\n",
        "    for i in range(len(arr)):\n",
        "        prefix_sum += arr[i]\n",
        "        if prefix_sum == 0:\n",
        "            result.append((0, i))\n",
        "        if prefix_sum in hashmap:\n",
        "            for start in hashmap[prefix_sum]:\n",
        "                result.append((start + 1, i))\n",
        "        hashmap.setdefault(prefix_sum, []).append(i)\n",
        "    return result"
      ]
    },
    {
      "cell_type": "code",
      "source": [
        "arr = [1, 2, -3, 3, -1, 2]\n",
        "print(findZeroSumSubarrays(arr))\n",
        "# Output: [(0, 2), (1, 3)]"
      ],
      "metadata": {
        "colab": {
          "base_uri": "https://localhost:8080/"
        },
        "id": "mtN7LT9HKvbi",
        "outputId": "b64e1963-a979-43aa-c637-02edbfe116e0"
      },
      "execution_count": 4,
      "outputs": [
        {
          "output_type": "stream",
          "name": "stdout",
          "text": [
            "[(0, 2), (2, 3)]\n"
          ]
        }
      ]
    }
  ]
}