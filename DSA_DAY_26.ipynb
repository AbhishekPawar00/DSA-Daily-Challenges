{
  "nbformat": 4,
  "nbformat_minor": 0,
  "metadata": {
    "colab": {
      "provenance": []
    },
    "kernelspec": {
      "name": "python3",
      "display_name": "Python 3"
    },
    "language_info": {
      "name": "python"
    }
  },
  "cells": [
    {
      "cell_type": "markdown",
      "source": [
        "Day 26 of 30 🗓\n",
        "\n",
        "Problem : Detect a Cycle in an Undirected Graph\n",
        "You are given an undirected graph represented by an adjacency list. Your task is to determine if the graph contains any cycle.\n",
        "A cycle is formed if you can traverse through a sequence of edges that starts and ends at the same vertex, with at least one edge in between.\n",
        "\n",
        "Input :\n",
        "* An integer V representing the number of vertices in the graph.\n",
        "* A list of edges, where each edge connects two vertices of the graph.\n",
        "* Input: V = 5, Edges = [[0, 1], [1, 2], [2, 3], [3, 4], [4, 0]]\n",
        "\n",
        "Output :\n",
        "Return true if the graph contains a cycle, otherwise return false.\n",
        "Output: true\n"
      ],
      "metadata": {
        "id": "2VqoicFbwZdW"
      }
    },
    {
      "cell_type": "code",
      "execution_count": 1,
      "metadata": {
        "id": "JUMKSA3bwV4t"
      },
      "outputs": [],
      "source": [
        "from collections import defaultdict\n",
        "def hasCycle(V, edges):\n",
        "    graph = defaultdict(list)\n",
        "    for u, v in edges:\n",
        "        graph[u].append(v)\n",
        "        graph[v].append(u)\n",
        "    visited = [False] * V\n",
        "    def dfs(node, parent):\n",
        "        visited[node] = True\n",
        "        for neighbor in graph[node]:\n",
        "            if not visited[neighbor]:\n",
        "                if dfs(neighbor, node):\n",
        "                    return True\n",
        "            elif neighbor != parent:\n",
        "                return True\n",
        "        return False\n",
        "    for v in range(V):\n",
        "        if not visited[v]:\n",
        "            if dfs(v, -1):\n",
        "                return True\n",
        "\n",
        "    return False\n"
      ]
    },
    {
      "cell_type": "code",
      "source": [
        "V = 5\n",
        "edges = [[0, 1], [1, 2], [2, 3], [3, 4], [4, 0]]\n",
        "print(hasCycle(V, edges))  # ✅ True\n"
      ],
      "metadata": {
        "colab": {
          "base_uri": "https://localhost:8080/"
        },
        "id": "ZhJHcXEiyCc4",
        "outputId": "5e5962b2-9efb-4ebe-b0be-24f58d7307b1"
      },
      "execution_count": 2,
      "outputs": [
        {
          "output_type": "stream",
          "name": "stdout",
          "text": [
            "True\n"
          ]
        }
      ]
    }
  ]
}