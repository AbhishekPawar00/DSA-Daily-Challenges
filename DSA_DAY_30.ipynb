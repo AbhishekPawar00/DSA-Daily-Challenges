{
  "nbformat": 4,
  "nbformat_minor": 0,
  "metadata": {
    "colab": {
      "provenance": []
    },
    "kernelspec": {
      "name": "python3",
      "display_name": "Python 3"
    },
    "language_info": {
      "name": "python"
    }
  },
  "cells": [
    {
      "cell_type": "markdown",
      "source": [
        "Day 30 of 30 🗓\n",
        "\n",
        "Problem : The Coin Change Problem\n",
        "You are given an integer array coins[] of size n, where each element represents the denomination of a coin. You are also given an integer amount, representing the total amount of money. The task is to find the minimum number of coins required to make up the given amount.\n",
        "If the amount cannot be formed by any combination of the coins, return -1.\n",
        "You can assume that you have an infinite supply of each denomination.\n",
        "\n",
        "Input :\n",
        "* An integer array coins[] where each element represents the value of a coin.\n",
        "* An integer amount representing the total amount of money.\n",
        "* coins = [1, 2, 5], amount = 11\n",
        "\n",
        "Output :\n",
        "* Return the minimum number of coins needed to make up the amount.\n",
        "* If the amount cannot be formed by any combination of coins, return -1.\n",
        "* Output - 3\n"
      ],
      "metadata": {
        "id": "1MtKi63VmwpG"
      }
    },
    {
      "cell_type": "code",
      "execution_count": 1,
      "metadata": {
        "id": "2ZQAAgrImsGm"
      },
      "outputs": [],
      "source": [
        "def coinChange(coins, amount):\n",
        "    dp = [amount + 1] * (amount + 1)\n",
        "    dp[0] = 0\n",
        "    for i in range(1, amount + 1):\n",
        "        for coin in coins:\n",
        "            if i - coin >= 0:\n",
        "                dp[i] = min(dp[i], 1 + dp[i - coin])\n",
        "    if dp[amount] == amount + 1:\n",
        "        return -1\n",
        "    else:\n",
        "        return dp[amount]\n"
      ]
    },
    {
      "cell_type": "code",
      "source": [
        "coins = [1, 2, 5]\n",
        "amount = 11\n",
        "print(coinChange(coins, amount))   # Output: 3"
      ],
      "metadata": {
        "colab": {
          "base_uri": "https://localhost:8080/"
        },
        "id": "6oQu2GQRoLzt",
        "outputId": "83029c9f-3e4e-46da-a473-6ae68a6f25a4"
      },
      "execution_count": 2,
      "outputs": [
        {
          "output_type": "stream",
          "name": "stdout",
          "text": [
            "3\n"
          ]
        }
      ]
    }
  ]
}