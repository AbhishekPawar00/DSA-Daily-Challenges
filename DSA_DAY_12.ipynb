{
  "nbformat": 4,
  "nbformat_minor": 0,
  "metadata": {
    "colab": {
      "provenance": []
    },
    "kernelspec": {
      "name": "python3",
      "display_name": "Python 3"
    },
    "language_info": {
      "name": "python"
    }
  },
  "cells": [
    {
      "cell_type": "markdown",
      "source": [
        "Day 12 of 30 🗓\n",
        "\n",
        "Problem : Valid Parentheses with Multiple Types\n",
        "You are given a string s consisting of different types of parentheses: (), {}, and []. Your task is to determine whether the given string is valid.\n",
        "A string is considered valid if:\n",
        "1. Every opening bracket has a corresponding closing bracket of the same type.\n",
        "2. The brackets are closed in the correct order. This means that a closing bracket must close the most recent unmatched opening bracket.\n",
        "\n",
        "Input :\n",
        "A string s consisting of characters (, ), {, }, [, and ].\n",
        "Input: s = \"[{()}]\"\n",
        "\n",
        "Output :\n",
        "- Return true if the string is valid.\n",
        "- Return false if the string is invalid.\n",
        "Output: true\n"
      ],
      "metadata": {
        "id": "gMy4HWRlvbtJ"
      }
    },
    {
      "cell_type": "code",
      "execution_count": 14,
      "metadata": {
        "id": "Apoz2PdwvRgR"
      },
      "outputs": [],
      "source": [
        "def isvalid(s):\n",
        "  stack=[]\n",
        "  for i in s:\n",
        "    if i in '({[ ':\n",
        "      stack.append(i)\n",
        "    else:\n",
        "      if not stack:\n",
        "        return False\n",
        "      if i==')' and stack[-1]=='(':\n",
        "        stack.pop()\n",
        "      elif i=='}' and stack[-1]=='{':\n",
        "        stack.pop()\n",
        "      elif i==']' and stack[-1]=='[':\n",
        "        stack.pop()\n",
        "  return not stack\n",
        "\n"
      ]
    },
    {
      "cell_type": "code",
      "source": [
        "s=\"[{()}]\"\n",
        "isvalid(s)"
      ],
      "metadata": {
        "colab": {
          "base_uri": "https://localhost:8080/"
        },
        "id": "uQrvng8aw4bQ",
        "outputId": "4905ed69-3293-462a-a864-e6f04d2ff9fb"
      },
      "execution_count": 24,
      "outputs": [
        {
          "output_type": "execute_result",
          "data": {
            "text/plain": [
              "True"
            ]
          },
          "metadata": {},
          "execution_count": 24
        }
      ]
    }
  ]
}