{
  "nbformat": 4,
  "nbformat_minor": 0,
  "metadata": {
    "colab": {
      "provenance": []
    },
    "kernelspec": {
      "name": "python3",
      "display_name": "Python 3"
    },
    "language_info": {
      "name": "python"
    }
  },
  "cells": [
    {
      "cell_type": "markdown",
      "source": [
        "Day 8 of 30 🗓\n",
        "\n",
        "Problem : Reverse a String Word by Word\n",
        "You are given a string s that consists of multiple words separated by spaces. Your task is to reverse the order of the words in the string. Words are defined as sequences of non-space characters. The output string should not contain leading or trailing spaces, and multiple spaces between words should be reduced to a single space.\n",
        "\n",
        "Input :\n",
        "A string s of length n (1 ≤ n ≤ 10^4) consisting of letters, digits, punctuation, and spaces.\n",
        "Input: \"the sky is blue\"\n",
        "\n",
        "Output :\n",
        "A string where the words in s are reversed, with a single space separating the words, and no leading or trailing spaces.\n",
        "Output: \"blue is sky the\"\n"
      ],
      "metadata": {
        "id": "TK_r6SZe-eZL"
      }
    },
    {
      "cell_type": "code",
      "execution_count": 1,
      "metadata": {
        "id": "-DHDkacN-YgX"
      },
      "outputs": [],
      "source": [
        "def reverse_words(s):\n",
        "    words = s.split()\n",
        "    words.reverse()\n",
        "    return \" \".join(words)"
      ]
    },
    {
      "cell_type": "code",
      "source": [
        "# Example usage:\n",
        "s = \"the sky is blue\"\n",
        "print(reverse_words(s))\n",
        "# Output: \"blue is sky the\""
      ],
      "metadata": {
        "colab": {
          "base_uri": "https://localhost:8080/"
        },
        "id": "pMN0zF-r-vcv",
        "outputId": "736fe0db-a625-4321-f360-21a8e93ac73d"
      },
      "execution_count": 2,
      "outputs": [
        {
          "output_type": "stream",
          "name": "stdout",
          "text": [
            "blue is sky the\n"
          ]
        }
      ]
    }
  ]
}