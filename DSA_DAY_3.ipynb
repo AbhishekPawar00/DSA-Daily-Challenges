{
  "nbformat": 4,
  "nbformat_minor": 0,
  "metadata": {
    "colab": {
      "provenance": []
    },
    "kernelspec": {
      "name": "python3",
      "display_name": "Python 3"
    },
    "language_info": {
      "name": "python"
    }
  },
  "cells": [
    {
      "cell_type": "markdown",
      "source": [
        "Day 3 of 30 🗓\n",
        "\n",
        "Problem : Find the Duplicate Number\n",
        "You are given an array arr containing n+1 integers, where each integer is in the range [1, n] inclusive. There is exactly one duplicate number in the array, but it may appear more than once. Your task is to find the duplicate number without modifying the array and using constant extra space.\n",
        "\n",
        "Input :\n",
        "An integer array arr of size n+1, where each element is an integer in the range [1, n].\n",
        "Example : arr = [3, 1, 3, 4, 2]\n",
        "\n",
        "Output :\n",
        "Return the duplicate integer present in the array.\n",
        "Example: Duplicate number: 3\n"
      ],
      "metadata": {
        "id": "Bp-yLurwMf2U"
      }
    },
    {
      "cell_type": "code",
      "execution_count": 28,
      "metadata": {
        "id": "CmZe9dGlMXXe"
      },
      "outputs": [],
      "source": [
        "def findDuplicate(arr):\n",
        "    n = len(arr)\n",
        "    for i in range(n):\n",
        "        for j in range(i+1,n):\n",
        "            if arr[i] == arr[j]:\n",
        "                return arr[i]\n",
        "    return None"
      ]
    },
    {
      "cell_type": "code",
      "source": [
        "arr = [3, 1, 3, 4, 2]\n",
        "print(\"Duplicate number:\", findDuplicate(arr))"
      ],
      "metadata": {
        "colab": {
          "base_uri": "https://localhost:8080/"
        },
        "id": "eMN0Nu0vNdJI",
        "outputId": "d5145c7c-706c-40b1-ca6a-c387ca1f952d"
      },
      "execution_count": 30,
      "outputs": [
        {
          "output_type": "stream",
          "name": "stdout",
          "text": [
            "Duplicate number: 3\n"
          ]
        }
      ]
    }
  ]
}