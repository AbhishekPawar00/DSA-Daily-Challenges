{
  "nbformat": 4,
  "nbformat_minor": 0,
  "metadata": {
    "colab": {
      "provenance": []
    },
    "kernelspec": {
      "name": "python3",
      "display_name": "Python 3"
    },
    "language_info": {
      "name": "python"
    }
  },
  "cells": [
    {
      "cell_type": "markdown",
      "source": [
        "Day 29 of 30 🗓\n",
        "\n",
        "Problem : Fibonacci Sequence using Dynamic Programming\n",
        "You are given an integer n. Your task is to calculate the n-th Fibonacci number using Dynamic Programming.\n",
        "\n",
        "Input :\n",
        "* A single integer n (0 ≤ n ≤ 1000)\n",
        "* Input : 5\n",
        "\n",
        "Output :\n",
        "Return the n-th Fibonacci number.\n",
        "Output: 5\n"
      ],
      "metadata": {
        "id": "YT2XgFj2JHpG"
      }
    },
    {
      "cell_type": "code",
      "execution_count": 3,
      "metadata": {
        "id": "s68wP2RdJE1M"
      },
      "outputs": [],
      "source": [
        "def fibonacci_optimized(n):\n",
        "    if n == 0:\n",
        "      return 0\n",
        "    if n == 1:\n",
        "      return 1\n",
        "    a, b = 0, 1\n",
        "    for i in range(2, n + 1):\n",
        "        a, b = b, a + b\n",
        "    return b\n"
      ]
    },
    {
      "cell_type": "code",
      "source": [
        "print(fibonacci_optimized(5))  # ✅ Output: 5"
      ],
      "metadata": {
        "colab": {
          "base_uri": "https://localhost:8080/"
        },
        "id": "S6nPwNUzJfE9",
        "outputId": "0e03010f-1b2f-4bc3-d187-e501b37bdffb"
      },
      "execution_count": 6,
      "outputs": [
        {
          "output_type": "stream",
          "name": "stdout",
          "text": [
            "5\n"
          ]
        }
      ]
    }
  ]
}