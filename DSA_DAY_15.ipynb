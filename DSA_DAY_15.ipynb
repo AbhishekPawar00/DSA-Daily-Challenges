{
  "nbformat": 4,
  "nbformat_minor": 0,
  "metadata": {
    "colab": {
      "provenance": []
    },
    "kernelspec": {
      "name": "python3",
      "display_name": "Python 3"
    },
    "language_info": {
      "name": "python"
    }
  },
  "cells": [
    {
      "cell_type": "markdown",
      "source": [
        "Day 15 of 30 🗓\n",
        "\n",
        "Problem : Find the Longest Substring Without Repeating Characters\n",
        "You are given a string S, and your task is to find the length of the longest substring that contains no repeating characters. A substring is a contiguous block of characters in the string.\n",
        "In this problem, you need to find the length of the longest substring where all the characters are unique. The substring can be formed by starting at any position in the string, but it must not contain any repeated characters.\n",
        "\n",
        "Input :\n",
        "* A string S, where 1≤∣S∣≤105(length of string).\n",
        "* Input: S = \"abcabcbb\"\n",
        "\n",
        "Output :\n",
        "An integer representing the length of the longest substring without repeating characters.\n",
        "Output: 3\n"
      ],
      "metadata": {
        "id": "fTOYLg4l8B_L"
      }
    },
    {
      "cell_type": "code",
      "execution_count": 5,
      "metadata": {
        "id": "ezUbNwgj76IZ"
      },
      "outputs": [],
      "source": [
        "def lengthOfLongestSubstring(s):\n",
        "    longest = set()\n",
        "    start = 0\n",
        "    end = 0\n",
        "\n",
        "    for right in range(len(s)):\n",
        "        # If character repeats, shrink window from left\n",
        "        while s[right] in longest:\n",
        "            longest.remove(s[start])\n",
        "            start += 1\n",
        "\n",
        "        longest.add(s[right])\n",
        "        end = max(end, right - start + 1)\n",
        "\n",
        "    return end\n"
      ]
    },
    {
      "cell_type": "code",
      "source": [
        "s = 'abcabcbb'\n",
        "lengthOfLongestSubstring(s)"
      ],
      "metadata": {
        "colab": {
          "base_uri": "https://localhost:8080/"
        },
        "id": "qgO15yEU9SA5",
        "outputId": "318fc0a8-fa83-4814-dbc4-ab7db6095ec1"
      },
      "execution_count": 6,
      "outputs": [
        {
          "output_type": "execute_result",
          "data": {
            "text/plain": [
              "3"
            ]
          },
          "metadata": {},
          "execution_count": 6
        }
      ]
    },
    {
      "cell_type": "code",
      "source": [
        "s = 'abcdefgh'\n",
        "lengthOfLongestSubstring(s)"
      ],
      "metadata": {
        "colab": {
          "base_uri": "https://localhost:8080/"
        },
        "id": "0J07pHmE9pZX",
        "outputId": "1a5b6bc9-817d-4193-f69f-2aea06722297"
      },
      "execution_count": 7,
      "outputs": [
        {
          "output_type": "execute_result",
          "data": {
            "text/plain": [
              "8"
            ]
          },
          "metadata": {},
          "execution_count": 7
        }
      ]
    },
    {
      "cell_type": "code",
      "source": [
        "s = 'a'\n",
        "lengthOfLongestSubstring(s)"
      ],
      "metadata": {
        "colab": {
          "base_uri": "https://localhost:8080/"
        },
        "id": "PiSBl7Zk9tV-",
        "outputId": "57255747-b2e9-4b0d-87ca-5c8651f7decb"
      },
      "execution_count": 8,
      "outputs": [
        {
          "output_type": "execute_result",
          "data": {
            "text/plain": [
              "1"
            ]
          },
          "metadata": {},
          "execution_count": 8
        }
      ]
    }
  ]
}