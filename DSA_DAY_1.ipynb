{
  "nbformat": 4,
  "nbformat_minor": 0,
  "metadata": {
    "colab": {
      "provenance": []
    },
    "kernelspec": {
      "name": "python3",
      "display_name": "Python 3"
    },
    "language_info": {
      "name": "python"
    }
  },
  "cells": [
    {
      "cell_type": "markdown",
      "source": [
        "Day 1 of 30 🗓\n",
        "\n",
        "Problem : Sort an Array of 0s, 1s, and 2s\n",
        "You are given an array arr consisting only of 0s, 1s, and 2s. The task is to sort the array in increasing order in linear time (i.e., O(n)) without using any extra space. This means you need to rearrange the array in-place.\n",
        "\n",
        "Input :\n",
        "An integer array arr of size n where each element is either 0, 1, or 2.\n",
        "Example : arr = [0, 1, 2, 1, 0, 2, 1, 0]\n",
        "\n",
        "Output :\n",
        "The sorted array, arranged in increasing order of 0s, 1s, and 2s.\n",
        "Example: [0, 0, 0, 1, 1, 1, 2, 2]\n"
      ],
      "metadata": {
        "id": "UpEZgc7xD15C"
      }
    },
    {
      "cell_type": "code",
      "execution_count": 3,
      "metadata": {
        "id": "jTgcImGtDPRb"
      },
      "outputs": [],
      "source": [
        "def sort_array(arr):\n",
        "    low, mid, high = 0, 0, len(arr) - 1\n",
        "    while mid <= high:\n",
        "        if arr[mid] == 0:\n",
        "            arr[low], arr[mid] = arr[mid], arr[low]\n",
        "            low += 1\n",
        "            mid += 1\n",
        "        elif arr[mid] == 1:\n",
        "            mid += 1\n",
        "        else:\n",
        "            arr[mid], arr[high] = arr[high], arr[mid]\n",
        "            high -= 1\n",
        "    return arr"
      ]
    },
    {
      "cell_type": "code",
      "source": [
        "arr = [0, 1, 2, 1, 0, 2, 1, 0]\n",
        "print(sort_array(arr))  # Output: [0, 0, 0, 1, 1, 1, 2, 2]"
      ],
      "metadata": {
        "colab": {
          "base_uri": "https://localhost:8080/"
        },
        "id": "f9GFPU1zDsAv",
        "outputId": "83aa16dc-9384-4556-8725-475080d0a1c5"
      },
      "execution_count": 4,
      "outputs": [
        {
          "output_type": "stream",
          "name": "stdout",
          "text": [
            "[0, 0, 0, 1, 1, 1, 2, 2]\n"
          ]
        }
      ]
    }
  ]
}