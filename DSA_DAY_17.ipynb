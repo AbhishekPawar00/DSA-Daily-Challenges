{
  "nbformat": 4,
  "nbformat_minor": 0,
  "metadata": {
    "colab": {
      "provenance": []
    },
    "kernelspec": {
      "name": "python3",
      "display_name": "Python 3"
    },
    "language_info": {
      "name": "python"
    }
  },
  "cells": [
    {
      "cell_type": "markdown",
      "source": [
        "Day 17 of 30 🗓\n",
        "\n",
        "Problem : Prime Factorization of a Number\n",
        "Given a positive integer N, your task is to find its prime factorization. Return a list of prime numbers that multiply together to give N. If N is prime, the output should be a list containing only N.\n",
        "Prime factorization is the process of breaking down a number into the set of prime numbers that, when multiplied together, result in the original number. For example, if N = 18, its prime factors are [2, 3, 3] because 2×3×3=18.\n",
        "\n",
        "Input :\n",
        "* A single integer N, where 2≤N≤109\n",
        "* N = 18\n",
        "\n",
        "Output :\n",
        "A list of prime numbers representing the prime factorization of N.\n",
        "Output: [2, 3, 3]"
      ],
      "metadata": {
        "id": "xjzpTg3Dxs-K"
      }
    },
    {
      "cell_type": "code",
      "source": [
        "def prime_factorization(N):\n",
        "    factors = []\n",
        "    i = 2\n",
        "    while i * i <= N:\n",
        "        while N % i == 0:\n",
        "            factors.append(i)\n",
        "            N //= i\n",
        "        i += 1\n",
        "    if N > 1:\n",
        "        factors.append(N)\n",
        "    return factors\n"
      ],
      "metadata": {
        "id": "bRitTs17yIg3"
      },
      "execution_count": 1,
      "outputs": []
    },
    {
      "cell_type": "code",
      "source": [
        "N = 18\n",
        "print(prime_factorization(N))"
      ],
      "metadata": {
        "colab": {
          "base_uri": "https://localhost:8080/"
        },
        "id": "ZZUgUNQlx-AC",
        "outputId": "d7c2bc38-4371-4a85-c4a4-e4ba5645c24e"
      },
      "execution_count": 2,
      "outputs": [
        {
          "output_type": "stream",
          "name": "stdout",
          "text": [
            "[2, 3, 3]\n"
          ]
        }
      ]
    },
    {
      "cell_type": "code",
      "source": [
        "N = 30\n",
        "print(prime_factorization(N))"
      ],
      "metadata": {
        "colab": {
          "base_uri": "https://localhost:8080/"
        },
        "id": "puxB47hwyaQl",
        "outputId": "659b2bef-7d19-4b52-ef95-69f411f58bfb"
      },
      "execution_count": 3,
      "outputs": [
        {
          "output_type": "stream",
          "name": "stdout",
          "text": [
            "[2, 3, 5]\n"
          ]
        }
      ]
    }
  ]
}