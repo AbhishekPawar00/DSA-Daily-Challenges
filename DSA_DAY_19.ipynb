{
  "nbformat": 4,
  "nbformat_minor": 0,
  "metadata": {
    "colab": {
      "provenance": []
    },
    "kernelspec": {
      "name": "python3",
      "display_name": "Python 3"
    },
    "language_info": {
      "name": "python"
    }
  },
  "cells": [
    {
      "cell_type": "markdown",
      "source": [
        "Day 19 of 30 🗓\n",
        "\n",
        "Problem : Evaluate a Postfix Expression\n",
        "Given a postfix expression (also known as Reverse Polish Notation), your task is to evaluate the expression and return the result. The expression can contain integers and the four basic arithmetic operators +, -, *, and /. Assume that the input is always valid and the division operator performs integer division, truncating towards zero.\n",
        "\n",
        "Input :\n",
        "- A string representing a postfix expression where operands and operators are separated by spaces.\n",
        "- The string contains only integers (both positive and negative) and the operators +, -, *, and /.\n",
        "- Input: \"2 1 + 3 *\"\n",
        "\n",
        "Output :\n",
        "An integer representing the result of evaluating the postfix expression.\n",
        "Output: 9"
      ],
      "metadata": {
        "id": "xjzpTg3Dxs-K"
      }
    },
    {
      "cell_type": "code",
      "source": [
        "def evaluate_postfix(expression):\n",
        "    stack = []\n",
        "    for token in expression.split():\n",
        "        if token in \"+-*/\":\n",
        "            b = stack.pop()\n",
        "            a = stack.pop()\n",
        "            if token == \"+\":\n",
        "                stack.append(a + b)\n",
        "            elif token == \"-\":\n",
        "                stack.append(a - b)\n",
        "            elif token == \"*\":\n",
        "                stack.append(a * b)\n",
        "            elif token == \"/\":\n",
        "                stack.append(int(a / b))\n",
        "        else:\n",
        "            stack.append(int(token))\n",
        "    return stack[0]"
      ],
      "metadata": {
        "id": "bRitTs17yIg3"
      },
      "execution_count": 1,
      "outputs": []
    },
    {
      "cell_type": "code",
      "source": [
        "tests = [\n",
        "    \"2 1 + 3 *\",\n",
        "    \"5 6 +\",\n",
        "    \"-5 6 -\",\n",
        "    \"15 7 1 1 + - / 3 * 2 1 1 + + -\",\n",
        "    \"5\"\n",
        "]"
      ],
      "metadata": {
        "id": "6GH-GSwvP1gN"
      },
      "execution_count": 2,
      "outputs": []
    },
    {
      "cell_type": "code",
      "source": [
        "for t in tests:\n",
        "    print(evaluate_postfix(t))"
      ],
      "metadata": {
        "colab": {
          "base_uri": "https://localhost:8080/"
        },
        "id": "3981MUbeP4vk",
        "outputId": "bf980b9c-dc8e-4d7b-ce7b-4ddbe6f99d7f"
      },
      "execution_count": 3,
      "outputs": [
        {
          "output_type": "stream",
          "name": "stdout",
          "text": [
            "9\n",
            "11\n",
            "-11\n",
            "5\n",
            "5\n"
          ]
        }
      ]
    }
  ]
}