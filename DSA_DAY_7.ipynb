{
  "nbformat": 4,
  "nbformat_minor": 0,
  "metadata": {
    "colab": {
      "provenance": []
    },
    "kernelspec": {
      "name": "python3",
      "display_name": "Python 3"
    },
    "language_info": {
      "name": "python"
    }
  },
  "cells": [
    {
      "cell_type": "markdown",
      "source": [
        "Day 7 of 30 🗓\n",
        "\n",
        "Trapping Rain Water\n",
        "\n",
        "You are given an array height[] of non-negative integers where each element represents the height of a bar in a histogram-like structure. These bars are placed next to each other, and the width of each bar is 1 unit. When it rains, water gets trapped between the bars if there are taller bars on both the left and right of the shorter bars. The task is to calculate how much water can be trapped between these bars after the rain.\n",
        "\n",
        "The amount of water trapped above any bar is determined by the difference between the height of the bar and the minimum height of the tallest bars on its left and right. For example, if a bar is surrounded by taller bars, the water will be trapped above it, filling the space up to the height of the shorter of the two taller bars.\n",
        "\n",
        "Input:\n",
        "An integer array height[] where each element represents the height of a bar in the histogram.\n",
        "Example :\n",
        "height[] = [0, 1, 0, 2, 1, 0, 1, 3, 2, 1, 2, 1]\n",
        "\n",
        "Output:\n",
        "An integer representing the total units of water that can be trapped between the bars.\n",
        "Water can be trapped in the following positions:\n",
        "At index 2: Water trapped = 1 unit (bounded by heights 1 and 2).\n",
        "At index 5: Water trapped = 2 units (bounded by heights 2 and 3).\n",
        "At index 6: Water trapped = 1 unit (bounded by heights 2 and 3).\n",
        "At index 9: Water trapped = 1 unit (bounded by heights 3 and 2).\n",
        "The total amount of water trapped = 1 + 2 + 1 + 1 + 1 = 6 units.\n",
        "\n"
      ],
      "metadata": {
        "id": "Qgr5pEOz6XTH"
      }
    },
    {
      "cell_type": "code",
      "execution_count": 1,
      "metadata": {
        "id": "zjj3kuTM594f"
      },
      "outputs": [],
      "source": [
        "def trap(height):\n",
        "    left, right = 0, len(height) - 1\n",
        "    left_max, right_max = 0, 0\n",
        "    water = 0\n",
        "    while left <= right:\n",
        "        if height[left] <= height[right]:\n",
        "            if height[left] >= left_max:\n",
        "                left_max = height[left]\n",
        "            else:\n",
        "                water += left_max - height[left]\n",
        "            left += 1\n",
        "        else:\n",
        "            if height[right] >= right_max:\n",
        "                right_max = height[right]\n",
        "            else:\n",
        "                water += right_max - height[right]\n",
        "            right -= 1\n",
        "    return water"
      ]
    },
    {
      "cell_type": "code",
      "source": [
        "height = [0,1,0,2,1,0,1,3,2,1,2,1]\n",
        "print(\"Total water trapped:\", trap(height))\n",
        "# Output: 6"
      ],
      "metadata": {
        "colab": {
          "base_uri": "https://localhost:8080/"
        },
        "id": "5RDw2lLX7GDa",
        "outputId": "c692bdac-a7ef-4cb2-964f-ec7b892d20e8"
      },
      "execution_count": 4,
      "outputs": [
        {
          "output_type": "stream",
          "name": "stdout",
          "text": [
            "Total water trapped: 6\n"
          ]
        }
      ]
    }
  ]
}