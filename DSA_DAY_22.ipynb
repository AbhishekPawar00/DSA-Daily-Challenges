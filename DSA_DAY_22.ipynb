{
  "nbformat": 4,
  "nbformat_minor": 0,
  "metadata": {
    "colab": {
      "provenance": []
    },
    "kernelspec": {
      "name": "python3",
      "display_name": "Python 3"
    },
    "language_info": {
      "name": "python"
    }
  },
  "cells": [
    {
      "cell_type": "markdown",
      "source": [
        "Day 22 of 30 🗓\n",
        "\n",
        "Problem : First Element to Repeat k Times\n",
        "You are given an array of integers and an integer k. Your task is to find the first element in the array that appears exactly k times. If no such element exists, return -1.\n",
        "\n",
        "Input :\n",
        "* An integer array arr of size n, where 1≤n≤105\n",
        "* An integer k, where 1≤k≤n\n",
        "* Input: arr = [3, 1, 4, 4, 5, 2, 6, 1, 4], k = 2\n",
        "\n",
        "Output :\n",
        "Return the first element from the array that occurs exactly k times. If no element occurs exactly k times, return -1.\n",
        "Output: 1"
      ],
      "metadata": {
        "id": "xjzpTg3Dxs-K"
      }
    },
    {
      "cell_type": "code",
      "source": [
        "def first_element_to_repeat_k_times(arr, k):\n",
        "    freq = {}\n",
        "    for num in arr:\n",
        "        freq[num] = freq.get(num, 0) + 1\n",
        "    for num in arr:\n",
        "        if freq[num] == k:\n",
        "            return num\n",
        "    return -1"
      ],
      "metadata": {
        "id": "bRitTs17yIg3"
      },
      "execution_count": 1,
      "outputs": []
    },
    {
      "cell_type": "code",
      "source": [
        "print(first_element_to_repeat_k_times([3, 1, 4, 4, 5, 2, 6, 1, 4], 2))\n",
        "print(first_element_to_repeat_k_times([2, 3, 4, 2, 2, 5, 5], 2))\n",
        "print(first_element_to_repeat_k_times([1, 1, 1, 1], 1))\n",
        "print(first_element_to_repeat_k_times([10], 1))\n",
        "print(first_element_to_repeat_k_times([6, 6, 6, 6, 7, 7, 8, 8, 8], 3))"
      ],
      "metadata": {
        "id": "6GH-GSwvP1gN",
        "colab": {
          "base_uri": "https://localhost:8080/"
        },
        "outputId": "899ca474-9a43-474c-e4f6-3d1e63424e55"
      },
      "execution_count": 2,
      "outputs": [
        {
          "output_type": "stream",
          "name": "stdout",
          "text": [
            "1\n",
            "5\n",
            "-1\n",
            "10\n",
            "8\n"
          ]
        }
      ]
    }
  ]
}