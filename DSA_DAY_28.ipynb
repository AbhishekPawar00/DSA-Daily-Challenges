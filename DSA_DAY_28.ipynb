{
  "nbformat": 4,
  "nbformat_minor": 0,
  "metadata": {
    "colab": {
      "provenance": []
    },
    "kernelspec": {
      "name": "python3",
      "display_name": "Python 3"
    },
    "language_info": {
      "name": "python"
    }
  },
  "cells": [
    {
      "cell_type": "markdown",
      "source": [
        "Day 28 of 30 🗓\n",
        "\n",
        "Problem : Check if a Binary Tree is Symmetric\n",
        "You are given the root of a binary tree. Your task is to determine whether the tree is symmetric. A binary tree is symmetric if the left and right subtrees are mirror images of each other.\n",
        "\n",
        "Input :\n",
        "* The root of the binary tree.\n",
        "* Input : [1, 2, 2, 3, 4, 4, 3]\n",
        "\n",
        "Output :\n",
        "Return true if the binary tree is symmetric, otherwise return false.\n",
        "Output: true\n"
      ],
      "metadata": {
        "id": "iPC5cH5nIsy5"
      }
    },
    {
      "cell_type": "code",
      "execution_count": 3,
      "metadata": {
        "id": "ywtnL6vLHvOD"
      },
      "outputs": [],
      "source": [
        "from collections import deque\n",
        "class TreeNode:\n",
        "    def __init__(self, val=0, left=None, right=None):\n",
        "        self.val = val\n",
        "        self.left = left\n",
        "        self.right = right\n",
        "def buildTree(arr):\n",
        "    if not arr:\n",
        "        return None\n",
        "    root = TreeNode(arr[0])\n",
        "    q = deque([root])\n",
        "    i = 1\n",
        "    while q and i < len(arr):\n",
        "        node = q.popleft()\n",
        "        if node:\n",
        "            if i < len(arr) and arr[i] is not None:\n",
        "                node.left = TreeNode(arr[i])\n",
        "            q.append(node.left)\n",
        "            i += 1\n",
        "            if i < len(arr) and arr[i] is not None:\n",
        "                node.right = TreeNode(arr[i])\n",
        "            q.append(node.right)\n",
        "            i += 1\n",
        "    return root\n",
        "def isSymmetric(root):\n",
        "    if not root:\n",
        "        return True\n",
        "    q = deque([(root.left, root.right)])\n",
        "    while q:\n",
        "        t1, t2 = q.popleft()\n",
        "        if not t1 and not t2:\n",
        "            continue\n",
        "        if not t1 or not t2:\n",
        "            return False\n",
        "        if t1.val != t2.val:\n",
        "            return False\n",
        "        q.append((t1.left, t2.right))\n",
        "        q.append((t1.right, t2.left))\n",
        "    return True"
      ]
    },
    {
      "cell_type": "code",
      "source": [
        "arr = [1, 2, 2, 3, 4, 4, 3]\n",
        "root = buildTree(arr)\n",
        "print(isSymmetric(root))  # Output: True"
      ],
      "metadata": {
        "colab": {
          "base_uri": "https://localhost:8080/"
        },
        "id": "-I9uCegIJJcA",
        "outputId": "2322b275-2747-4f01-aaaf-4c5c2fe11688"
      },
      "execution_count": 4,
      "outputs": [
        {
          "output_type": "stream",
          "name": "stdout",
          "text": [
            "True\n"
          ]
        }
      ]
    }
  ]
}