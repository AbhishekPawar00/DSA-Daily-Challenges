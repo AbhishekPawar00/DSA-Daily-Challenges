{
  "nbformat": 4,
  "nbformat_minor": 0,
  "metadata": {
    "colab": {
      "provenance": []
    },
    "kernelspec": {
      "name": "python3",
      "display_name": "Python 3"
    },
    "language_info": {
      "name": "python"
    }
  },
  "cells": [
    {
      "cell_type": "markdown",
      "source": [
        "Day 9 of 30 🗓\n",
        "\n",
        "Problem : Longest Common Prefix\n",
        "You are given an array of strings strs[], consisting of lowercase letters. Your task is to find the longest common prefix shared among all the strings. If there is no common prefix, return an empty string \"\".\n",
        "A common prefix is a substring that appears at the beginning of all the strings in the array. The task is to identify the longest such prefix that all strings share.\n",
        "\n",
        "Input :\n",
        "An array of strings strs[] where each string consists of lowercase English letters.\n",
        "Input: strs[] = [\"flower\", \"flow\", \"flight\"]\n",
        "\n",
        "Output :\n",
        "A string representing the longest common prefix. If no common prefix exists, return an empty string \"\".\n",
        "Output: \"fl\"\n"
      ],
      "metadata": {
        "id": "ViPNnKLVln7i"
      }
    },
    {
      "cell_type": "code",
      "execution_count": 2,
      "metadata": {
        "id": "hlKeebjTliTg"
      },
      "outputs": [],
      "source": [
        "def longestCommonPrefix(strs):\n",
        "    if not strs:\n",
        "        return \"\"\n",
        "    prefix = strs[0]\n",
        "    for string in strs[1:]:\n",
        "        while not string.startswith(prefix):\n",
        "            prefix = prefix[:-1]\n",
        "            if not prefix:\n",
        "                return \"\"\n",
        "    return prefix"
      ]
    },
    {
      "cell_type": "code",
      "source": [
        "strs = [\"flower\", \"flow\", \"flight\"]\n",
        "print(longestCommonPrefix(strs))\n",
        "# Output: \"fl\""
      ],
      "metadata": {
        "colab": {
          "base_uri": "https://localhost:8080/"
        },
        "id": "NZbemqmBl5l9",
        "outputId": "eb1f486f-9a4d-46c0-dff2-130a8c697140"
      },
      "execution_count": 3,
      "outputs": [
        {
          "output_type": "stream",
          "name": "stdout",
          "text": [
            "fl\n"
          ]
        }
      ]
    }
  ]
}