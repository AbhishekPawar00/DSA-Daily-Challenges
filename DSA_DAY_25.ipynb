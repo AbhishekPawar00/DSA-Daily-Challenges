{
  "nbformat": 4,
  "nbformat_minor": 0,
  "metadata": {
    "colab": {
      "provenance": []
    },
    "kernelspec": {
      "name": "python3",
      "display_name": "Python 3"
    },
    "language_info": {
      "name": "python"
    }
  },
  "cells": [
    {
      "cell_type": "markdown",
      "source": [
        "Day 25 of 30 🗓\n",
        "\n",
        "Problem : Check if a Binary Tree is a Binary Search Tree (BST)\n",
        "You are given the root of a binary tree. Your task is to determine whether the tree is a valid Binary Search Tree (BST)\n",
        "\n",
        "Input :\n",
        "* A binary tree represented by its root node.\n",
        "* Input: root = [2, 1, 3]\n",
        "\n",
        "Output :\n",
        "Return true if the binary tree is a valid BST, otherwise return false.\n",
        "Output: true:"
      ],
      "metadata": {
        "id": "Q5h-FouAMxB7"
      }
    },
    {
      "cell_type": "code",
      "source": [
        "class TreeNode:\n",
        "    def __init__(self, val=0, left=None, right=None):\n",
        "        self.val = val\n",
        "        self.left = left\n",
        "        self.right = right\n",
        "\n",
        "def listToTree(arr, i=0):\n",
        "    if i >= len(arr) or arr[i] is None:\n",
        "        return None\n",
        "    root = TreeNode(arr[i])\n",
        "    root.left = listToTree(arr, 2 * i + 1)\n",
        "    root.right = listToTree(arr, 2 * i + 2)\n",
        "    return root\n",
        "\n",
        "def isValidBST(root):\n",
        "    prev = [None]\n",
        "    def inorder(node):\n",
        "        if not node:\n",
        "            return True\n",
        "        if not inorder(node.left):\n",
        "            return False\n",
        "        if prev[0] is not None and node.val <= prev[0]:\n",
        "            return False\n",
        "        prev[0] = node.val\n",
        "        return inorder(node.right)\n",
        "    return inorder(root)\n",
        "\n"
      ],
      "metadata": {
        "id": "u5kf-2INOETV"
      },
      "execution_count": 9,
      "outputs": []
    },
    {
      "cell_type": "code",
      "source": [
        "arr = [2, 1, 3]\n",
        "root = listToTree(arr)\n",
        "print(isValidBST(root))  # ✅ True"
      ],
      "metadata": {
        "colab": {
          "base_uri": "https://localhost:8080/"
        },
        "id": "SZJ4VxaKNQZd",
        "outputId": "df9f2e5d-fa3b-4957-e10b-df442ae0595b"
      },
      "execution_count": 10,
      "outputs": [
        {
          "output_type": "stream",
          "name": "stdout",
          "text": [
            "True\n"
          ]
        }
      ]
    }
  ]
}