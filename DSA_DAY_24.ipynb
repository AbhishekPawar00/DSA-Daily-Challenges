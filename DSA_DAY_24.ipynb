{
  "nbformat": 4,
  "nbformat_minor": 0,
  "metadata": {
    "colab": {
      "provenance": []
    },
    "kernelspec": {
      "name": "python3",
      "display_name": "Python 3"
    },
    "language_info": {
      "name": "python"
    }
  },
  "cells": [
    {
      "cell_type": "markdown",
      "source": [
        "Day 24 of 30 🗓\n",
        "\n",
        "Problem : Lowest Common Ancestor (LCA) in a Binary Tree\n",
        "You are given a binary tree and two distinct nodes within the tree. Your task is to find the lowest common ancestor (LCA) of these two nodes. The LCA of two nodes p and q is defined as the lowest node in the tree that has both p and q as descendants (where we allow a node to be a descendant of itself).\n",
        "\n",
        "Input :\n",
        "* A binary tree represented as a series of nodes where each node has references to its left and right child.\n",
        "* Two distinct nodes p and q from the tree.\n",
        "* Input: root = [3, 5, 1, 6, 2, 0, 8, null, null, 7, 4], p = 5, q = 1\n",
        "\n",
        "Output :\n",
        "Return the node that is the lowest common ancestor (LCA) of p and q.\n",
        "Output: 3"
      ],
      "metadata": {
        "id": "xjzpTg3Dxs-K"
      }
    },
    {
      "cell_type": "code",
      "source": [
        "class TreeNode:\n",
        "    def __init__(self, val=0, left=None, right=None):\n",
        "        self.val = val\n",
        "        self.left = left\n",
        "        self.right = right"
      ],
      "metadata": {
        "id": "bRitTs17yIg3"
      },
      "execution_count": 1,
      "outputs": []
    },
    {
      "cell_type": "code",
      "source": [
        "def lowestCommonAncestor(root, p, q):\n",
        "    if not root or root == p or root == q:\n",
        "        return root\n",
        "    left = lowestCommonAncestor(root.left, p, q)\n",
        "    right = lowestCommonAncestor(root.right, p, q)\n",
        "    if left and right:\n",
        "        return root\n",
        "    return left if left else right"
      ],
      "metadata": {
        "id": "6GH-GSwvP1gN"
      },
      "execution_count": 2,
      "outputs": []
    },
    {
      "cell_type": "code",
      "source": [
        "def build_tree(nodes):\n",
        "    if not nodes:\n",
        "        return None\n",
        "    root = TreeNode(nodes[0])\n",
        "    queue = [root]\n",
        "    index = 1\n",
        "    while queue and index < len(nodes):\n",
        "        node = queue.pop(0)\n",
        "        if node:\n",
        "            left_val = nodes[index] if index < len(nodes) else None\n",
        "            right_val = nodes[index + 1] if index + 1 < len(nodes) else None\n",
        "            node.left = TreeNode(left_val) if left_val is not None else None\n",
        "            node.right = TreeNode(right_val) if right_val is not None else None\n",
        "            queue.append(node.left)\n",
        "            queue.append(node.right)\n",
        "            index += 2\n",
        "    return root"
      ],
      "metadata": {
        "id": "tdjlQQ4ATB6o"
      },
      "execution_count": 3,
      "outputs": []
    },
    {
      "cell_type": "code",
      "source": [
        "root1 = build_tree([3, 5, 1, 6, 2, 0, 8, None, None, 7, 4])\n",
        "p1 = root1.left\n",
        "q1 = root1.right\n",
        "print(lowestCommonAncestor(root1, p1, q1).val)"
      ],
      "metadata": {
        "colab": {
          "base_uri": "https://localhost:8080/"
        },
        "id": "Kz05v73cTDIM",
        "outputId": "c5280ccb-ec81-4849-87cf-bdcd22f70fb3"
      },
      "execution_count": 4,
      "outputs": [
        {
          "output_type": "stream",
          "name": "stdout",
          "text": [
            "3\n"
          ]
        }
      ]
    },
    {
      "cell_type": "code",
      "source": [
        "root2 = build_tree([3, 5, 1, 6, 2, 0, 8, None, None, 7, 4])\n",
        "p2 = root2.left\n",
        "q2 = root2.left.right.right\n",
        "print(lowestCommonAncestor(root2, p2, q2).val)"
      ],
      "metadata": {
        "colab": {
          "base_uri": "https://localhost:8080/"
        },
        "id": "pcSa7s6jTDYe",
        "outputId": "9200306b-6f81-4bfd-dfab-52e56af0ee11"
      },
      "execution_count": 5,
      "outputs": [
        {
          "output_type": "stream",
          "name": "stdout",
          "text": [
            "5\n"
          ]
        }
      ]
    },
    {
      "cell_type": "code",
      "source": [
        "root3 = build_tree([1, 2])\n",
        "p3 = root3\n",
        "q3 = root3.left\n",
        "print(lowestCommonAncestor(root3, p3, q3).val)"
      ],
      "metadata": {
        "colab": {
          "base_uri": "https://localhost:8080/"
        },
        "id": "SejCflfGTWgD",
        "outputId": "b7d2bb42-55f3-4239-f74c-8098d4a1f2bb"
      },
      "execution_count": 6,
      "outputs": [
        {
          "output_type": "stream",
          "name": "stdout",
          "text": [
            "1\n"
          ]
        }
      ]
    }
  ]
}