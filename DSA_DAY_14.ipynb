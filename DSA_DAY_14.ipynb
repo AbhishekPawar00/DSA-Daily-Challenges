{
  "nbformat": 4,
  "nbformat_minor": 0,
  "metadata": {
    "colab": {
      "provenance": []
    },
    "kernelspec": {
      "name": "python3",
      "display_name": "Python 3"
    },
    "language_info": {
      "name": "python"
    }
  },
  "cells": [
    {
      "cell_type": "markdown",
      "source": [
        "Day 14 of 30 🗓\n",
        "\n",
        "Problem : Count Substrings with Exactly K Distinct Characters\n",
        "You are given a string s of lowercase English alphabets and an integer k. Your task is to count all possible substrings of s that contain exactly k distinct characters.\n",
        "\n",
        "Input :\n",
        "* A string s consisting of lowercase English letters.\n",
        "* An integer k, where 1 ≤ 𝑘 ≤ 26\n",
        "* The length of the string satisfies 1 ≤ 𝑛 ≤ 104\n",
        "* Example - s = \"pqpqs\", k = 2\n",
        "\n",
        "Output :\n",
        "Return an integer that represents the number of substrings of s that contain exactly k distinct characters.\n",
        "Output: 7\n"
      ],
      "metadata": {
        "id": "YEkJI-Pi1VWT"
      }
    },
    {
      "cell_type": "code",
      "execution_count": 1,
      "metadata": {
        "id": "buDgLoL71Sez"
      },
      "outputs": [],
      "source": [
        "def count_substrings(s, k):\n",
        "    if k == 0:\n",
        "        return 0\n",
        "    elif k > len(s):\n",
        "        return 0\n",
        "    else:\n",
        "        count = 0\n",
        "        for i in range(len(s)):\n",
        "            for j in range(i+k, len(s)+1):\n",
        "                if len(set(s[i:j])) == k:\n",
        "                    count += 1\n",
        "        return count"
      ]
    },
    {
      "cell_type": "code",
      "source": [
        "s = \"pqpqs\"\n",
        "print(count_substrings(s, 2))"
      ],
      "metadata": {
        "colab": {
          "base_uri": "https://localhost:8080/"
        },
        "id": "lx_XeDeb2ZXD",
        "outputId": "bd03e8a8-fb69-4898-c948-5ccd99d920f4"
      },
      "execution_count": 26,
      "outputs": [
        {
          "output_type": "stream",
          "name": "stdout",
          "text": [
            "7\n"
          ]
        }
      ]
    }
  ]
}