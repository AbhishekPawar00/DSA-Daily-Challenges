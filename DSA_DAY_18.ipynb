{
  "nbformat": 4,
  "nbformat_minor": 0,
  "metadata": {
    "colab": {
      "provenance": []
    },
    "kernelspec": {
      "name": "python3",
      "display_name": "Python 3"
    },
    "language_info": {
      "name": "python"
    }
  },
  "cells": [
    {
      "cell_type": "markdown",
      "source": [
        "Day 18 of 30 🗓\n",
        "\n",
        "Problem : Count the Number of Divisors of a Number\n",
        "Given a positive integer N, your task is to find the total number of divisors (factors) of N. A divisor of N is any integer that divides N without leaving a remainder.\n",
        "A divisor of a number is any integer that divides the number evenly (i.e., without a remainder). For example, for N = 12, its divisors are 1, 2, 3, 4, 6, 12, so the total number of divisors is 6.\n",
        "\n",
        "Input :\n",
        "A single integer N, where 1≤N≤109\n",
        "N = 12\n",
        "\n",
        "Output :\n",
        "An integer representing the total number of divisors of N.\n",
        "Output: 6"
      ],
      "metadata": {
        "id": "xjzpTg3Dxs-K"
      }
    },
    {
      "cell_type": "code",
      "source": [
        "import math\n",
        "\n",
        "def count_divisors(N):\n",
        "    count = 0\n",
        "    for i in range(1, int(math.isqrt(N)) + 1):\n",
        "        if N % i == 0:\n",
        "            count += 1\n",
        "            if i != N // i:\n",
        "                count += 1\n",
        "    return count\n",
        "\n",
        "N = int(input().strip())\n",
        "print(count_divisors(N))"
      ],
      "metadata": {
        "id": "bRitTs17yIg3",
        "colab": {
          "base_uri": "https://localhost:8080/"
        },
        "outputId": "85e9fbe0-e244-4555-e0af-5bd38df9d757"
      },
      "execution_count": 1,
      "outputs": [
        {
          "output_type": "stream",
          "name": "stdout",
          "text": [
            "12\n",
            "6\n"
          ]
        }
      ]
    }
  ]
}