{
  "nbformat": 4,
  "nbformat_minor": 0,
  "metadata": {
    "colab": {
      "provenance": []
    },
    "kernelspec": {
      "name": "python3",
      "display_name": "Python 3"
    },
    "language_info": {
      "name": "python"
    }
  },
  "cells": [
    {
      "cell_type": "markdown",
      "source": [
        "Day 27 of 30 🗓\n",
        "\n",
        "Problem : Find the Shortest Path in an Unweighted Graph\n",
        "You are given an unweighted graph represented by an adjacency list. Your task is to find the shortest path (in terms of the number of edges) between two given nodes in the graph.\n",
        "\n",
        "Input :\n",
        "* An integer V representing the number of vertices in the graph.\n",
        "* A list of edges, where each edge connects two vertices of the graph.\n",
        "* Two integers, start and end, representing the source and destination nodes respectively.\n",
        "* V = 5, Edges = [[0, 1], [0, 2], [1, 3], [2, 3], [3, 4]], start = 0, end = 4\n",
        "\n",
        "Output :\n",
        "Return the shortest path length (number of edges) from start to end. If there is no path, return -1.\n",
        "Output: 3\n"
      ],
      "metadata": {
        "id": "JzV93l6uVqSB"
      }
    },
    {
      "cell_type": "code",
      "execution_count": 1,
      "metadata": {
        "id": "nb6A2ScyVi0k"
      },
      "outputs": [],
      "source": [
        "from collections import deque, defaultdict\n",
        "\n",
        "def shortestPath(V, edges, start, end):\n",
        "    graph = defaultdict(list)\n",
        "    for u, v in edges:\n",
        "        graph[u].append(v)\n",
        "        graph[v].append(u)\n",
        "    queue = deque([(start, 0)])\n",
        "    visited = set([start])\n",
        "    while queue:\n",
        "        node, dist = queue.popleft()\n",
        "        if node == end:\n",
        "            return dist\n",
        "        for neighbor in graph[node]:\n",
        "            if neighbor not in visited:\n",
        "                visited.add(neighbor)\n",
        "                queue.append((neighbor, dist + 1))\n",
        "    return -1"
      ]
    },
    {
      "cell_type": "code",
      "source": [
        "V = 5\n",
        "edges = [[0, 1], [0, 2], [1, 3], [2, 3], [3, 4]]\n",
        "start, end = 0, 4\n",
        "print(shortestPath(V, edges, start, end))  # ✅ Output: 3"
      ],
      "metadata": {
        "colab": {
          "base_uri": "https://localhost:8080/"
        },
        "id": "HqwIVDEIWAr2",
        "outputId": "4864df45-eb82-4257-c809-c00dab7b02f9"
      },
      "execution_count": 2,
      "outputs": [
        {
          "output_type": "stream",
          "name": "stdout",
          "text": [
            "3\n"
          ]
        }
      ]
    }
  ]
}