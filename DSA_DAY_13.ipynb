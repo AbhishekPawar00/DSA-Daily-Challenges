{
  "nbformat": 4,
  "nbformat_minor": 0,
  "metadata": {
    "colab": {
      "provenance": []
    },
    "kernelspec": {
      "name": "python3",
      "display_name": "Python 3"
    },
    "language_info": {
      "name": "python"
    }
  },
  "cells": [
    {
      "cell_type": "markdown",
      "source": [
        "Day 13 of 30 🗓\n",
        "\n",
        "Problem : Longest Palindromic Substring\n",
        "You are given a string s. Your task is to find and return the longest palindromic substring within the given string. A palindrome is a string that reads the same forwards and backwards.\n",
        "\n",
        "Input :\n",
        "A string s of length n. The length of the string satisfies 1≤n≤1000.\n",
        "Input: \"babad\"\n",
        "\n",
        "Output :\n",
        "Return the longest substring of s that is a palindrome. If there are multiple solutions, return the first one that occurs.\n",
        "Output: \"bab\"\n"
      ],
      "metadata": {
        "id": "5YqR3q_1YS9c"
      }
    },
    {
      "cell_type": "code",
      "execution_count": 147,
      "metadata": {
        "id": "qwN83tgrYJxH"
      },
      "outputs": [],
      "source": [
        "def palindrom(word):\n",
        "  char=''\n",
        "  for i in word:\n",
        "    char=char+i\n",
        "    for i in range(len(char)):\n",
        "      if len(char)>=3:\n",
        "        if char == char[::-1]:\n",
        "          s=char\n",
        "        elif char[0]!=char[-1] and char[1:]==char[1:][::-1]:\n",
        "            s=char[1:]\n",
        "      else:\n",
        "        s=word[0]\n",
        "  return s"
      ]
    },
    {
      "cell_type": "code",
      "source": [
        "word='babad'\n",
        "print(palindrom(word)) # Output: \"bab\" or \"aba\""
      ],
      "metadata": {
        "colab": {
          "base_uri": "https://localhost:8080/"
        },
        "id": "DEmNkvFDZDCz",
        "outputId": "85ad4e7c-239c-47bf-b2aa-001133445075"
      },
      "execution_count": 149,
      "outputs": [
        {
          "output_type": "stream",
          "name": "stdout",
          "text": [
            "aba\n"
          ]
        }
      ]
    },
    {
      "cell_type": "code",
      "source": [
        "word='cbbd'\n",
        "print(palindrom(word)) # Output: \"bb\""
      ],
      "metadata": {
        "colab": {
          "base_uri": "https://localhost:8080/"
        },
        "id": "SB24GAjVbi9L",
        "outputId": "94f1732a-4376-4606-8d66-53e52d43b984"
      },
      "execution_count": 150,
      "outputs": [
        {
          "output_type": "stream",
          "name": "stdout",
          "text": [
            "bb\n"
          ]
        }
      ]
    }
  ]
}